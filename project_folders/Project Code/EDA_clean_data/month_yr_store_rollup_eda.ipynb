{
  "nbformat": 4,
  "nbformat_minor": 0,
  "metadata": {
    "colab": {
      "provenance": []
    },
    "kernelspec": {
      "name": "python3",
      "display_name": "Python 3"
    },
    "language_info": {
      "name": "python"
    }
  },
  "cells": [
    {
      "cell_type": "code",
      "execution_count": 1,
      "metadata": {
        "id": "E7eNYYdmTUrb"
      },
      "outputs": [],
      "source": [
        "import pandas as pd\n",
        "import matplotlib.pyplot as plt\n",
        "import seaborn as sns\n",
        "from itertools import combinations\n",
        "from collections import Counter"
      ]
    },
    {
      "cell_type": "code",
      "source": [
        "df = pd.read_csv('month_yr_store_rollup_data.csv')"
      ],
      "metadata": {
        "id": "v9I02jtJThQE"
      },
      "execution_count": 2,
      "outputs": []
    },
    {
      "cell_type": "markdown",
      "source": [
        "## The dataset seems to offer a regional view of performance, showing how different cities and types of store locations (residential, commercial, downtown) impact the overall business results.\n"
      ],
      "metadata": {
        "id": "X4SnR3wwUqOy"
      }
    },
    {
      "cell_type": "code",
      "source": [
        "df.head()"
      ],
      "metadata": {
        "colab": {
          "base_uri": "https://localhost:8080/",
          "height": 206
        },
        "id": "78xq5-fOTle1",
        "outputId": "83b10bb2-edd2-4208-97ea-be3bfe6955ef"
      },
      "execution_count": 3,
      "outputs": [
        {
          "output_type": "execute_result",
          "data": {
            "text/plain": [
              "   Year  Month  Store_ID                Store_Name   Store_City  \\\n",
              "0  2022      1         1  Maven Toys Guadalajara 1  Guadalajara   \n",
              "1  2022      1         2    Maven Toys Monterrey 1    Monterrey   \n",
              "2  2022      1         3  Maven Toys Guadalajara 2  Guadalajara   \n",
              "3  2022      1         4     Maven Toys Saltillo 1     Saltillo   \n",
              "4  2022      1         5       Maven Toys La Paz 1       La Paz   \n",
              "\n",
              "  Store_Location Store_Open_Date  Units  nUnique_Products  \\\n",
              "0    Residential      1992-09-18    563                20   \n",
              "1    Residential      1995-04-27    854                16   \n",
              "2     Commercial      1999-12-27    993                16   \n",
              "3       Downtown      2000-01-01    959                17   \n",
              "4       Downtown      2001-05-31    710                18   \n",
              "\n",
              "   Actual_Product_Price   Revenue  xRevenue   Profit  \n",
              "0             14.612684   8352.78   8546.87  1694.91  \n",
              "1             13.763446  11814.60  12083.46  3521.64  \n",
              "2             13.863232  13526.77  13871.57  3960.20  \n",
              "3             13.886959  13629.73  13889.41  4284.32  \n",
              "4             14.498741   9735.14  10012.40  2783.74  "
            ],
            "text/html": [
              "\n",
              "  <div id=\"df-232789e6-4a6b-4231-b611-d812e216df39\" class=\"colab-df-container\">\n",
              "    <div>\n",
              "<style scoped>\n",
              "    .dataframe tbody tr th:only-of-type {\n",
              "        vertical-align: middle;\n",
              "    }\n",
              "\n",
              "    .dataframe tbody tr th {\n",
              "        vertical-align: top;\n",
              "    }\n",
              "\n",
              "    .dataframe thead th {\n",
              "        text-align: right;\n",
              "    }\n",
              "</style>\n",
              "<table border=\"1\" class=\"dataframe\">\n",
              "  <thead>\n",
              "    <tr style=\"text-align: right;\">\n",
              "      <th></th>\n",
              "      <th>Year</th>\n",
              "      <th>Month</th>\n",
              "      <th>Store_ID</th>\n",
              "      <th>Store_Name</th>\n",
              "      <th>Store_City</th>\n",
              "      <th>Store_Location</th>\n",
              "      <th>Store_Open_Date</th>\n",
              "      <th>Units</th>\n",
              "      <th>nUnique_Products</th>\n",
              "      <th>Actual_Product_Price</th>\n",
              "      <th>Revenue</th>\n",
              "      <th>xRevenue</th>\n",
              "      <th>Profit</th>\n",
              "    </tr>\n",
              "  </thead>\n",
              "  <tbody>\n",
              "    <tr>\n",
              "      <th>0</th>\n",
              "      <td>2022</td>\n",
              "      <td>1</td>\n",
              "      <td>1</td>\n",
              "      <td>Maven Toys Guadalajara 1</td>\n",
              "      <td>Guadalajara</td>\n",
              "      <td>Residential</td>\n",
              "      <td>1992-09-18</td>\n",
              "      <td>563</td>\n",
              "      <td>20</td>\n",
              "      <td>14.612684</td>\n",
              "      <td>8352.78</td>\n",
              "      <td>8546.87</td>\n",
              "      <td>1694.91</td>\n",
              "    </tr>\n",
              "    <tr>\n",
              "      <th>1</th>\n",
              "      <td>2022</td>\n",
              "      <td>1</td>\n",
              "      <td>2</td>\n",
              "      <td>Maven Toys Monterrey 1</td>\n",
              "      <td>Monterrey</td>\n",
              "      <td>Residential</td>\n",
              "      <td>1995-04-27</td>\n",
              "      <td>854</td>\n",
              "      <td>16</td>\n",
              "      <td>13.763446</td>\n",
              "      <td>11814.60</td>\n",
              "      <td>12083.46</td>\n",
              "      <td>3521.64</td>\n",
              "    </tr>\n",
              "    <tr>\n",
              "      <th>2</th>\n",
              "      <td>2022</td>\n",
              "      <td>1</td>\n",
              "      <td>3</td>\n",
              "      <td>Maven Toys Guadalajara 2</td>\n",
              "      <td>Guadalajara</td>\n",
              "      <td>Commercial</td>\n",
              "      <td>1999-12-27</td>\n",
              "      <td>993</td>\n",
              "      <td>16</td>\n",
              "      <td>13.863232</td>\n",
              "      <td>13526.77</td>\n",
              "      <td>13871.57</td>\n",
              "      <td>3960.20</td>\n",
              "    </tr>\n",
              "    <tr>\n",
              "      <th>3</th>\n",
              "      <td>2022</td>\n",
              "      <td>1</td>\n",
              "      <td>4</td>\n",
              "      <td>Maven Toys Saltillo 1</td>\n",
              "      <td>Saltillo</td>\n",
              "      <td>Downtown</td>\n",
              "      <td>2000-01-01</td>\n",
              "      <td>959</td>\n",
              "      <td>17</td>\n",
              "      <td>13.886959</td>\n",
              "      <td>13629.73</td>\n",
              "      <td>13889.41</td>\n",
              "      <td>4284.32</td>\n",
              "    </tr>\n",
              "    <tr>\n",
              "      <th>4</th>\n",
              "      <td>2022</td>\n",
              "      <td>1</td>\n",
              "      <td>5</td>\n",
              "      <td>Maven Toys La Paz 1</td>\n",
              "      <td>La Paz</td>\n",
              "      <td>Downtown</td>\n",
              "      <td>2001-05-31</td>\n",
              "      <td>710</td>\n",
              "      <td>18</td>\n",
              "      <td>14.498741</td>\n",
              "      <td>9735.14</td>\n",
              "      <td>10012.40</td>\n",
              "      <td>2783.74</td>\n",
              "    </tr>\n",
              "  </tbody>\n",
              "</table>\n",
              "</div>\n",
              "    <div class=\"colab-df-buttons\">\n",
              "\n",
              "  <div class=\"colab-df-container\">\n",
              "    <button class=\"colab-df-convert\" onclick=\"convertToInteractive('df-232789e6-4a6b-4231-b611-d812e216df39')\"\n",
              "            title=\"Convert this dataframe to an interactive table.\"\n",
              "            style=\"display:none;\">\n",
              "\n",
              "  <svg xmlns=\"http://www.w3.org/2000/svg\" height=\"24px\" viewBox=\"0 -960 960 960\">\n",
              "    <path d=\"M120-120v-720h720v720H120Zm60-500h600v-160H180v160Zm220 220h160v-160H400v160Zm0 220h160v-160H400v160ZM180-400h160v-160H180v160Zm440 0h160v-160H620v160ZM180-180h160v-160H180v160Zm440 0h160v-160H620v160Z\"/>\n",
              "  </svg>\n",
              "    </button>\n",
              "\n",
              "  <style>\n",
              "    .colab-df-container {\n",
              "      display:flex;\n",
              "      gap: 12px;\n",
              "    }\n",
              "\n",
              "    .colab-df-convert {\n",
              "      background-color: #E8F0FE;\n",
              "      border: none;\n",
              "      border-radius: 50%;\n",
              "      cursor: pointer;\n",
              "      display: none;\n",
              "      fill: #1967D2;\n",
              "      height: 32px;\n",
              "      padding: 0 0 0 0;\n",
              "      width: 32px;\n",
              "    }\n",
              "\n",
              "    .colab-df-convert:hover {\n",
              "      background-color: #E2EBFA;\n",
              "      box-shadow: 0px 1px 2px rgba(60, 64, 67, 0.3), 0px 1px 3px 1px rgba(60, 64, 67, 0.15);\n",
              "      fill: #174EA6;\n",
              "    }\n",
              "\n",
              "    .colab-df-buttons div {\n",
              "      margin-bottom: 4px;\n",
              "    }\n",
              "\n",
              "    [theme=dark] .colab-df-convert {\n",
              "      background-color: #3B4455;\n",
              "      fill: #D2E3FC;\n",
              "    }\n",
              "\n",
              "    [theme=dark] .colab-df-convert:hover {\n",
              "      background-color: #434B5C;\n",
              "      box-shadow: 0px 1px 3px 1px rgba(0, 0, 0, 0.15);\n",
              "      filter: drop-shadow(0px 1px 2px rgba(0, 0, 0, 0.3));\n",
              "      fill: #FFFFFF;\n",
              "    }\n",
              "  </style>\n",
              "\n",
              "    <script>\n",
              "      const buttonEl =\n",
              "        document.querySelector('#df-232789e6-4a6b-4231-b611-d812e216df39 button.colab-df-convert');\n",
              "      buttonEl.style.display =\n",
              "        google.colab.kernel.accessAllowed ? 'block' : 'none';\n",
              "\n",
              "      async function convertToInteractive(key) {\n",
              "        const element = document.querySelector('#df-232789e6-4a6b-4231-b611-d812e216df39');\n",
              "        const dataTable =\n",
              "          await google.colab.kernel.invokeFunction('convertToInteractive',\n",
              "                                                    [key], {});\n",
              "        if (!dataTable) return;\n",
              "\n",
              "        const docLinkHtml = 'Like what you see? Visit the ' +\n",
              "          '<a target=\"_blank\" href=https://colab.research.google.com/notebooks/data_table.ipynb>data table notebook</a>'\n",
              "          + ' to learn more about interactive tables.';\n",
              "        element.innerHTML = '';\n",
              "        dataTable['output_type'] = 'display_data';\n",
              "        await google.colab.output.renderOutput(dataTable, element);\n",
              "        const docLink = document.createElement('div');\n",
              "        docLink.innerHTML = docLinkHtml;\n",
              "        element.appendChild(docLink);\n",
              "      }\n",
              "    </script>\n",
              "  </div>\n",
              "\n",
              "\n",
              "<div id=\"df-3a49fa7c-8e83-405c-82f5-4c6b0c123ac6\">\n",
              "  <button class=\"colab-df-quickchart\" onclick=\"quickchart('df-3a49fa7c-8e83-405c-82f5-4c6b0c123ac6')\"\n",
              "            title=\"Suggest charts\"\n",
              "            style=\"display:none;\">\n",
              "\n",
              "<svg xmlns=\"http://www.w3.org/2000/svg\" height=\"24px\"viewBox=\"0 0 24 24\"\n",
              "     width=\"24px\">\n",
              "    <g>\n",
              "        <path d=\"M19 3H5c-1.1 0-2 .9-2 2v14c0 1.1.9 2 2 2h14c1.1 0 2-.9 2-2V5c0-1.1-.9-2-2-2zM9 17H7v-7h2v7zm4 0h-2V7h2v10zm4 0h-2v-4h2v4z\"/>\n",
              "    </g>\n",
              "</svg>\n",
              "  </button>\n",
              "\n",
              "<style>\n",
              "  .colab-df-quickchart {\n",
              "      --bg-color: #E8F0FE;\n",
              "      --fill-color: #1967D2;\n",
              "      --hover-bg-color: #E2EBFA;\n",
              "      --hover-fill-color: #174EA6;\n",
              "      --disabled-fill-color: #AAA;\n",
              "      --disabled-bg-color: #DDD;\n",
              "  }\n",
              "\n",
              "  [theme=dark] .colab-df-quickchart {\n",
              "      --bg-color: #3B4455;\n",
              "      --fill-color: #D2E3FC;\n",
              "      --hover-bg-color: #434B5C;\n",
              "      --hover-fill-color: #FFFFFF;\n",
              "      --disabled-bg-color: #3B4455;\n",
              "      --disabled-fill-color: #666;\n",
              "  }\n",
              "\n",
              "  .colab-df-quickchart {\n",
              "    background-color: var(--bg-color);\n",
              "    border: none;\n",
              "    border-radius: 50%;\n",
              "    cursor: pointer;\n",
              "    display: none;\n",
              "    fill: var(--fill-color);\n",
              "    height: 32px;\n",
              "    padding: 0;\n",
              "    width: 32px;\n",
              "  }\n",
              "\n",
              "  .colab-df-quickchart:hover {\n",
              "    background-color: var(--hover-bg-color);\n",
              "    box-shadow: 0 1px 2px rgba(60, 64, 67, 0.3), 0 1px 3px 1px rgba(60, 64, 67, 0.15);\n",
              "    fill: var(--button-hover-fill-color);\n",
              "  }\n",
              "\n",
              "  .colab-df-quickchart-complete:disabled,\n",
              "  .colab-df-quickchart-complete:disabled:hover {\n",
              "    background-color: var(--disabled-bg-color);\n",
              "    fill: var(--disabled-fill-color);\n",
              "    box-shadow: none;\n",
              "  }\n",
              "\n",
              "  .colab-df-spinner {\n",
              "    border: 2px solid var(--fill-color);\n",
              "    border-color: transparent;\n",
              "    border-bottom-color: var(--fill-color);\n",
              "    animation:\n",
              "      spin 1s steps(1) infinite;\n",
              "  }\n",
              "\n",
              "  @keyframes spin {\n",
              "    0% {\n",
              "      border-color: transparent;\n",
              "      border-bottom-color: var(--fill-color);\n",
              "      border-left-color: var(--fill-color);\n",
              "    }\n",
              "    20% {\n",
              "      border-color: transparent;\n",
              "      border-left-color: var(--fill-color);\n",
              "      border-top-color: var(--fill-color);\n",
              "    }\n",
              "    30% {\n",
              "      border-color: transparent;\n",
              "      border-left-color: var(--fill-color);\n",
              "      border-top-color: var(--fill-color);\n",
              "      border-right-color: var(--fill-color);\n",
              "    }\n",
              "    40% {\n",
              "      border-color: transparent;\n",
              "      border-right-color: var(--fill-color);\n",
              "      border-top-color: var(--fill-color);\n",
              "    }\n",
              "    60% {\n",
              "      border-color: transparent;\n",
              "      border-right-color: var(--fill-color);\n",
              "    }\n",
              "    80% {\n",
              "      border-color: transparent;\n",
              "      border-right-color: var(--fill-color);\n",
              "      border-bottom-color: var(--fill-color);\n",
              "    }\n",
              "    90% {\n",
              "      border-color: transparent;\n",
              "      border-bottom-color: var(--fill-color);\n",
              "    }\n",
              "  }\n",
              "</style>\n",
              "\n",
              "  <script>\n",
              "    async function quickchart(key) {\n",
              "      const quickchartButtonEl =\n",
              "        document.querySelector('#' + key + ' button');\n",
              "      quickchartButtonEl.disabled = true;  // To prevent multiple clicks.\n",
              "      quickchartButtonEl.classList.add('colab-df-spinner');\n",
              "      try {\n",
              "        const charts = await google.colab.kernel.invokeFunction(\n",
              "            'suggestCharts', [key], {});\n",
              "      } catch (error) {\n",
              "        console.error('Error during call to suggestCharts:', error);\n",
              "      }\n",
              "      quickchartButtonEl.classList.remove('colab-df-spinner');\n",
              "      quickchartButtonEl.classList.add('colab-df-quickchart-complete');\n",
              "    }\n",
              "    (() => {\n",
              "      let quickchartButtonEl =\n",
              "        document.querySelector('#df-3a49fa7c-8e83-405c-82f5-4c6b0c123ac6 button');\n",
              "      quickchartButtonEl.style.display =\n",
              "        google.colab.kernel.accessAllowed ? 'block' : 'none';\n",
              "    })();\n",
              "  </script>\n",
              "</div>\n",
              "\n",
              "    </div>\n",
              "  </div>\n"
            ],
            "application/vnd.google.colaboratory.intrinsic+json": {
              "type": "dataframe",
              "variable_name": "df",
              "summary": "{\n  \"name\": \"df\",\n  \"rows\": 1050,\n  \"fields\": [\n    {\n      \"column\": \"Year\",\n      \"properties\": {\n        \"dtype\": \"number\",\n        \"std\": 0,\n        \"min\": 2022,\n        \"max\": 2023,\n        \"num_unique_values\": 2,\n        \"samples\": [\n          2023,\n          2022\n        ],\n        \"semantic_type\": \"\",\n        \"description\": \"\"\n      }\n    },\n    {\n      \"column\": \"Month\",\n      \"properties\": {\n        \"dtype\": \"number\",\n        \"std\": 3,\n        \"min\": 1,\n        \"max\": 12,\n        \"num_unique_values\": 12,\n        \"samples\": [\n          11,\n          10\n        ],\n        \"semantic_type\": \"\",\n        \"description\": \"\"\n      }\n    },\n    {\n      \"column\": \"Store_ID\",\n      \"properties\": {\n        \"dtype\": \"number\",\n        \"std\": 14,\n        \"min\": 1,\n        \"max\": 50,\n        \"num_unique_values\": 50,\n        \"samples\": [\n          14,\n          40\n        ],\n        \"semantic_type\": \"\",\n        \"description\": \"\"\n      }\n    },\n    {\n      \"column\": \"Store_Name\",\n      \"properties\": {\n        \"dtype\": \"category\",\n        \"num_unique_values\": 50,\n        \"samples\": [\n          \"Maven Toys Guanajuato 1\",\n          \"Maven Toys Toluca 2\"\n        ],\n        \"semantic_type\": \"\",\n        \"description\": \"\"\n      }\n    },\n    {\n      \"column\": \"Store_City\",\n      \"properties\": {\n        \"dtype\": \"category\",\n        \"num_unique_values\": 29,\n        \"samples\": [\n          \"Durango\",\n          \"Zacatecas\"\n        ],\n        \"semantic_type\": \"\",\n        \"description\": \"\"\n      }\n    },\n    {\n      \"column\": \"Store_Location\",\n      \"properties\": {\n        \"dtype\": \"category\",\n        \"num_unique_values\": 4,\n        \"samples\": [\n          \"Commercial\",\n          \"Airport\"\n        ],\n        \"semantic_type\": \"\",\n        \"description\": \"\"\n      }\n    },\n    {\n      \"column\": \"Store_Open_Date\",\n      \"properties\": {\n        \"dtype\": \"object\",\n        \"num_unique_values\": 50,\n        \"samples\": [\n          \"2007-01-31\",\n          \"2014-05-27\"\n        ],\n        \"semantic_type\": \"\",\n        \"description\": \"\"\n      }\n    },\n    {\n      \"column\": \"Units\",\n      \"properties\": {\n        \"dtype\": \"number\",\n        \"std\": 363,\n        \"min\": 334,\n        \"max\": 2724,\n        \"num_unique_values\": 690,\n        \"samples\": [\n          626,\n          1316\n        ],\n        \"semantic_type\": \"\",\n        \"description\": \"\"\n      }\n    },\n    {\n      \"column\": \"nUnique_Products\",\n      \"properties\": {\n        \"dtype\": \"number\",\n        \"std\": 4,\n        \"min\": 12,\n        \"max\": 32,\n        \"num_unique_values\": 21,\n        \"samples\": [\n          20,\n          27\n        ],\n        \"semantic_type\": \"\",\n        \"description\": \"\"\n      }\n    },\n    {\n      \"column\": \"Actual_Product_Price\",\n      \"properties\": {\n        \"dtype\": \"number\",\n        \"std\": 1.3179873359006697,\n        \"min\": 9.936784922394676,\n        \"max\": 19.056703755215576,\n        \"num_unique_values\": 1050,\n        \"samples\": [\n          11.525777777777778,\n          13.29111753371869\n        ],\n        \"semantic_type\": \"\",\n        \"description\": \"\"\n      }\n    },\n    {\n      \"column\": \"Revenue\",\n      \"properties\": {\n        \"dtype\": \"number\",\n        \"std\": 4821.779446570649,\n        \"min\": 4336.12,\n        \"max\": 36191.65,\n        \"num_unique_values\": 1050,\n        \"samples\": [\n          9723.57,\n          8558.52\n        ],\n        \"semantic_type\": \"\",\n        \"description\": \"\"\n      }\n    },\n    {\n      \"column\": \"xRevenue\",\n      \"properties\": {\n        \"dtype\": \"number\",\n        \"std\": 4982.979263460891,\n        \"min\": 4409.42,\n        \"max\": 37768.56,\n        \"num_unique_values\": 1049,\n        \"samples\": [\n          9981.81,\n          18084.92\n        ],\n        \"semantic_type\": \"\",\n        \"description\": \"\"\n      }\n    },\n    {\n      \"column\": \"Profit\",\n      \"properties\": {\n        \"dtype\": \"number\",\n        \"std\": 1300.0007350230467,\n        \"min\": 1106.28,\n        \"max\": 9539.09,\n        \"num_unique_values\": 1050,\n        \"samples\": [\n          3898.76,\n          1910.85\n        ],\n        \"semantic_type\": \"\",\n        \"description\": \"\"\n      }\n    }\n  ]\n}"
            }
          },
          "metadata": {},
          "execution_count": 3
        }
      ]
    },
    {
      "cell_type": "code",
      "source": [
        "print(\"Data Types:\\n\", df.dtypes)\n",
        "print(\"\\nSummary Statistics:\\n\", df.describe())\n",
        "print(\"\\nMissing Values:\\n\", df.isnull().sum())"
      ],
      "metadata": {
        "colab": {
          "base_uri": "https://localhost:8080/"
        },
        "id": "-LwYvwrnTmhL",
        "outputId": "f456d1ab-c723-4516-baa6-4a2a341a304c"
      },
      "execution_count": 4,
      "outputs": [
        {
          "output_type": "stream",
          "name": "stdout",
          "text": [
            "Data Types:\n",
            " Year                      int64\n",
            "Month                     int64\n",
            "Store_ID                  int64\n",
            "Store_Name               object\n",
            "Store_City               object\n",
            "Store_Location           object\n",
            "Store_Open_Date          object\n",
            "Units                     int64\n",
            "nUnique_Products          int64\n",
            "Actual_Product_Price    float64\n",
            "Revenue                 float64\n",
            "xRevenue                float64\n",
            "Profit                  float64\n",
            "dtype: object\n",
            "\n",
            "Summary Statistics:\n",
            "               Year        Month     Store_ID        Units  nUnique_Products  \\\n",
            "count  1050.000000  1050.000000  1050.000000  1050.000000       1050.000000   \n",
            "mean   2022.428571     5.857143    25.500000  1038.633333         21.839048   \n",
            "std       0.495107     3.198035    14.437746   363.042820          4.145564   \n",
            "min    2022.000000     1.000000     1.000000   334.000000         12.000000   \n",
            "25%    2022.000000     3.000000    13.000000   786.000000         19.000000   \n",
            "50%    2022.000000     6.000000    25.500000   987.000000         22.000000   \n",
            "75%    2023.000000     8.000000    38.000000  1229.750000         25.000000   \n",
            "max    2023.000000    12.000000    50.000000  2724.000000         32.000000   \n",
            "\n",
            "       Actual_Product_Price       Revenue      xRevenue       Profit  \n",
            "count           1050.000000   1050.000000   1050.000000  1050.000000  \n",
            "mean              13.608297  13622.657200  14061.969476  3645.901819  \n",
            "std                1.317987   4821.779447   4982.979263  1300.000735  \n",
            "min                9.936785   4336.120000   4409.420000  1106.280000  \n",
            "25%               12.695408  10270.210000  10578.285000  2747.047500  \n",
            "50%               13.588617  12866.200000  13288.665000  3439.635000  \n",
            "75%               14.426114  16106.865000  16555.187500  4369.287500  \n",
            "max               19.056704  36191.650000  37768.560000  9539.090000  \n",
            "\n",
            "Missing Values:\n",
            " Year                    0\n",
            "Month                   0\n",
            "Store_ID                0\n",
            "Store_Name              0\n",
            "Store_City              0\n",
            "Store_Location          0\n",
            "Store_Open_Date         0\n",
            "Units                   0\n",
            "nUnique_Products        0\n",
            "Actual_Product_Price    0\n",
            "Revenue                 0\n",
            "xRevenue                0\n",
            "Profit                  0\n",
            "dtype: int64\n"
          ]
        }
      ]
    },
    {
      "cell_type": "markdown",
      "source": [
        "#Top stores by profit"
      ],
      "metadata": {
        "id": "qochjEUTV0Py"
      }
    },
    {
      "cell_type": "code",
      "source": [
        "# Group by 'Store_Name' and calculate the maximum profit for each store\n",
        "max_profit_stores = df.groupby('Store_Name')['Profit'].max().reset_index()\n",
        "\n",
        "# Sort the stores by 'Profit' in descending order to get the top stores\n",
        "top_5_stores_by_max_profit = max_profit_stores.sort_values(by='Profit', ascending=False).head(5)\n",
        "\n",
        "# Print the result\n",
        "print(top_5_stores_by_max_profit)"
      ],
      "metadata": {
        "colab": {
          "base_uri": "https://localhost:8080/"
        },
        "id": "cT4C-M6ATpsy",
        "outputId": "efb5d0b1-48a4-4153-d2fa-04dfc73daa19"
      },
      "execution_count": 5,
      "outputs": [
        {
          "output_type": "stream",
          "name": "stdout",
          "text": [
            "                       Store_Name   Profit\n",
            "9   Maven Toys Ciudad de Mexico 2  9539.09\n",
            "31         Maven Toys Monterrey 3  8141.11\n",
            "17       Maven Toys Guadalajara 3  7634.83\n",
            "10  Maven Toys Ciudad de Mexico 3  7455.90\n",
            "11  Maven Toys Ciudad de Mexico 4  7375.58\n"
          ]
        }
      ]
    },
    {
      "cell_type": "markdown",
      "source": [
        "## Top Stores by revenue"
      ],
      "metadata": {
        "id": "G8q7UqqhWmhI"
      }
    },
    {
      "cell_type": "code",
      "source": [
        "# Group by 'Store_Name' and calculate the maximum revenue for each store\n",
        "max_revenue_stores = df.groupby('Store_Name')['Revenue'].max().reset_index()\n",
        "\n",
        "# Sort the stores by 'Revenue' in descending order to get the top stores\n",
        "top_5_stores_by_max_revenue = max_revenue_stores.sort_values(by='Revenue', ascending=False).head(5)\n",
        "\n",
        "# Print the result\n",
        "print(top_5_stores_by_max_revenue)"
      ],
      "metadata": {
        "colab": {
          "base_uri": "https://localhost:8080/"
        },
        "id": "4nMrXlV8V80l",
        "outputId": "260a64a1-906b-45b5-9dd1-8e4e6723818e"
      },
      "execution_count": 7,
      "outputs": [
        {
          "output_type": "stream",
          "name": "stdout",
          "text": [
            "                       Store_Name   Revenue\n",
            "9   Maven Toys Ciudad de Mexico 2  36191.65\n",
            "17       Maven Toys Guadalajara 3  32207.34\n",
            "43            Maven Toys Toluca 1  30357.11\n",
            "8   Maven Toys Ciudad de Mexico 1  28607.37\n",
            "30         Maven Toys Monterrey 2  27842.28\n"
          ]
        }
      ]
    },
    {
      "cell_type": "markdown",
      "source": [
        "## Top stores by profit, month"
      ],
      "metadata": {
        "id": "X6-9vj4eWuX2"
      }
    },
    {
      "cell_type": "code",
      "source": [
        "# Group by 'Store_Name' and 'Month', then calculate the maximum profit for each combination\n",
        "max_profit_by_month = df.groupby(['Store_Name', 'Month'])['Profit'].max().reset_index()\n",
        "\n",
        "# Sort the results by 'Profit' in descending order to get the top stores\n",
        "top_5_stores_by_max_profit_month = max_profit_by_month.sort_values(by='Profit', ascending=False).head(5)\n",
        "\n",
        "# Print the result\n",
        "print(top_5_stores_by_max_profit_month)"
      ],
      "metadata": {
        "colab": {
          "base_uri": "https://localhost:8080/"
        },
        "id": "9wkA1TQTWptE",
        "outputId": "5e4e6a13-8c3e-4909-99b3-6d1d342c7eab"
      },
      "execution_count": 8,
      "outputs": [
        {
          "output_type": "stream",
          "name": "stdout",
          "text": [
            "                        Store_Name  Month   Profit\n",
            "110  Maven Toys Ciudad de Mexico 2      3  9539.09\n",
            "108  Maven Toys Ciudad de Mexico 2      1  9518.24\n",
            "112  Maven Toys Ciudad de Mexico 2      5  9293.04\n",
            "114  Maven Toys Ciudad de Mexico 2      7  9076.49\n",
            "111  Maven Toys Ciudad de Mexico 2      4  9028.05\n"
          ]
        }
      ]
    },
    {
      "cell_type": "markdown",
      "source": [
        "#Top stores by profit, year"
      ],
      "metadata": {
        "id": "oKejEkmgXR15"
      }
    },
    {
      "cell_type": "code",
      "source": [
        "# Group by 'Store_Name' and 'Year', then calculate the maximum profit for each combination\n",
        "max_profit_by_year = df.groupby(['Store_Name', 'Year'])['Profit'].max().reset_index()\n",
        "\n",
        "# Sort the results by 'Profit' in descending order to get the top stores\n",
        "top_5_stores_by_max_profit_year = max_profit_by_year.sort_values(by='Profit', ascending=False).head(5)\n",
        "\n",
        "# Print the result\n",
        "print(top_5_stores_by_max_profit_year)"
      ],
      "metadata": {
        "colab": {
          "base_uri": "https://localhost:8080/"
        },
        "id": "AaojV7MdXE0T",
        "outputId": "c4d226a1-80e1-4baf-ec6b-ccfd0378df15"
      },
      "execution_count": 9,
      "outputs": [
        {
          "output_type": "stream",
          "name": "stdout",
          "text": [
            "                       Store_Name  Year   Profit\n",
            "19  Maven Toys Ciudad de Mexico 2  2023  9539.09\n",
            "18  Maven Toys Ciudad de Mexico 2  2022  8371.92\n",
            "63         Maven Toys Monterrey 3  2023  8141.11\n",
            "35       Maven Toys Guadalajara 3  2023  7634.83\n",
            "34       Maven Toys Guadalajara 3  2022  7615.61\n"
          ]
        }
      ]
    },
    {
      "cell_type": "markdown",
      "source": [
        "## Top stores by revenue, month"
      ],
      "metadata": {
        "id": "jg80gEiPXYnE"
      }
    },
    {
      "cell_type": "code",
      "source": [
        "# Group by 'Store_Name' and 'Month', then calculate the maximum revenue for each combination\n",
        "max_revenue_by_month = df.groupby(['Store_Name', 'Month'])['Revenue'].max().reset_index()\n",
        "\n",
        "# Sort the results by 'Profit' in descending order to get the top stores\n",
        "top_5_stores_by_max_revenue_month = max_revenue_by_month.sort_values(by='Revenue', ascending=False).head(5)\n",
        "\n",
        "# Print the result\n",
        "print(top_5_stores_by_max_revenue_month)"
      ],
      "metadata": {
        "colab": {
          "base_uri": "https://localhost:8080/"
        },
        "id": "CP50WWKiXWrI",
        "outputId": "48c4d93b-52ca-4c4f-8be3-acbdae7e1992"
      },
      "execution_count": 10,
      "outputs": [
        {
          "output_type": "stream",
          "name": "stdout",
          "text": [
            "                        Store_Name  Month   Revenue\n",
            "114  Maven Toys Ciudad de Mexico 2      7  36191.65\n",
            "112  Maven Toys Ciudad de Mexico 2      5  32234.08\n",
            "210       Maven Toys Guadalajara 3      7  32207.34\n",
            "111  Maven Toys Ciudad de Mexico 2      4  31748.68\n",
            "110  Maven Toys Ciudad de Mexico 2      3  31358.32\n"
          ]
        }
      ]
    },
    {
      "cell_type": "markdown",
      "source": [
        "## Top stores by revenue, year"
      ],
      "metadata": {
        "id": "jkj-qEkTXgFf"
      }
    },
    {
      "cell_type": "code",
      "source": [
        "# Group by 'Store_Name' and 'Year', then calculate the maximum revenue for each combination\n",
        "max_revenue_by_year = df.groupby(['Store_Name', 'Year'])['Revenue'].max().reset_index()\n",
        "\n",
        "# Sort the results by 'Profit' in descending order to get the top stores\n",
        "top_5_stores_by_max_revenue_year = max_revenue_by_year.sort_values(by='Revenue', ascending=False).head(5)\n",
        "\n",
        "# Print the result\n",
        "print(top_5_stores_by_max_profit_month)"
      ],
      "metadata": {
        "colab": {
          "base_uri": "https://localhost:8080/"
        },
        "id": "-e_Ozh2kXdij",
        "outputId": "4fbb742b-2d1b-4374-cf50-b7e18598f16c"
      },
      "execution_count": 11,
      "outputs": [
        {
          "output_type": "stream",
          "name": "stdout",
          "text": [
            "                        Store_Name  Month   Profit\n",
            "110  Maven Toys Ciudad de Mexico 2      3  9539.09\n",
            "108  Maven Toys Ciudad de Mexico 2      1  9518.24\n",
            "112  Maven Toys Ciudad de Mexico 2      5  9293.04\n",
            "114  Maven Toys Ciudad de Mexico 2      7  9076.49\n",
            "111  Maven Toys Ciudad de Mexico 2      4  9028.05\n"
          ]
        }
      ]
    },
    {
      "cell_type": "markdown",
      "source": [
        "## Stores with maximum profit city wise"
      ],
      "metadata": {
        "id": "pY5orF1AXxax"
      }
    },
    {
      "cell_type": "code",
      "source": [
        "max_profit_by_city = df.groupby(['Store_Name', 'Store_City'])['Profit'].max().reset_index()\n",
        "\n",
        "# Sort the results by 'Profit' in descending order to get the top stores\n",
        "top_5_stores_by_max_profit_city = max_profit_by_city.sort_values(by='Profit', ascending=False).head(5)\n",
        "\n",
        "# Print the result\n",
        "print(top_5_stores_by_max_profit_city)"
      ],
      "metadata": {
        "colab": {
          "base_uri": "https://localhost:8080/"
        },
        "id": "lxAJUyRHXm86",
        "outputId": "1c133634-ffc9-4080-fba4-0b00fb9e96f9"
      },
      "execution_count": 12,
      "outputs": [
        {
          "output_type": "stream",
          "name": "stdout",
          "text": [
            "                       Store_Name        Store_City   Profit\n",
            "9   Maven Toys Ciudad de Mexico 2  Cuidad de Mexico  9539.09\n",
            "31         Maven Toys Monterrey 3         Monterrey  8141.11\n",
            "17       Maven Toys Guadalajara 3       Guadalajara  7634.83\n",
            "10  Maven Toys Ciudad de Mexico 3  Cuidad de Mexico  7455.90\n",
            "11  Maven Toys Ciudad de Mexico 4  Cuidad de Mexico  7375.58\n"
          ]
        }
      ]
    },
    {
      "cell_type": "markdown",
      "source": [
        "## Stores with max profit location wise"
      ],
      "metadata": {
        "id": "xHSlyE_5X8gt"
      }
    },
    {
      "cell_type": "code",
      "source": [
        "max_profit_by_location = df.groupby(['Store_Name', 'Store_Location'])['Profit'].max().reset_index()\n",
        "\n",
        "# Sort the results by 'Profit' in descending order to get the top stores\n",
        "top_5_stores_by_max_profit_location= max_profit_by_location.sort_values(by='Profit', ascending=False).head(5)\n",
        "\n",
        "# Print the result\n",
        "print(top_5_stores_by_max_profit_location)"
      ],
      "metadata": {
        "colab": {
          "base_uri": "https://localhost:8080/"
        },
        "id": "Cgw7J7pvX7RK",
        "outputId": "204b032f-53ca-4ee7-c741-3a334e34250d"
      },
      "execution_count": 13,
      "outputs": [
        {
          "output_type": "stream",
          "name": "stdout",
          "text": [
            "                       Store_Name Store_Location   Profit\n",
            "9   Maven Toys Ciudad de Mexico 2        Airport  9539.09\n",
            "31         Maven Toys Monterrey 3        Airport  8141.11\n",
            "17       Maven Toys Guadalajara 3        Airport  7634.83\n",
            "10  Maven Toys Ciudad de Mexico 3    Residential  7455.90\n",
            "11  Maven Toys Ciudad de Mexico 4     Commercial  7375.58\n"
          ]
        }
      ]
    },
    {
      "cell_type": "markdown",
      "source": [
        "## Stores with max revenue city wise"
      ],
      "metadata": {
        "id": "jfdBUvmHYEcT"
      }
    },
    {
      "cell_type": "code",
      "source": [
        "max_revenue_by_city = df.groupby(['Store_Name', 'Store_City'])['Revenue'].max().reset_index()\n",
        "\n",
        "# Sort the results by 'Revenue' in descending order to get the top stores\n",
        "top_5_stores_by_max_revenue_city = max_revenue_by_city.sort_values(by='Revenue', ascending=False).head(5)\n",
        "\n",
        "# Print the result\n",
        "print(top_5_stores_by_max_revenue_city)"
      ],
      "metadata": {
        "colab": {
          "base_uri": "https://localhost:8080/"
        },
        "id": "-lJT1RejYCBM",
        "outputId": "0ea459dd-15fe-4cc8-9469-3b9a3d86d08d"
      },
      "execution_count": 16,
      "outputs": [
        {
          "output_type": "stream",
          "name": "stdout",
          "text": [
            "                       Store_Name        Store_City   Revenue\n",
            "9   Maven Toys Ciudad de Mexico 2  Cuidad de Mexico  36191.65\n",
            "17       Maven Toys Guadalajara 3       Guadalajara  32207.34\n",
            "43            Maven Toys Toluca 1            Toluca  30357.11\n",
            "8   Maven Toys Ciudad de Mexico 1  Cuidad de Mexico  28607.37\n",
            "30         Maven Toys Monterrey 2         Monterrey  27842.28\n"
          ]
        }
      ]
    },
    {
      "cell_type": "markdown",
      "source": [
        "## Stores with max revenue location wise"
      ],
      "metadata": {
        "id": "xCJgdfJjYLH2"
      }
    },
    {
      "cell_type": "code",
      "source": [
        "max_revenue_by_location = df.groupby(['Store_Name', 'Store_Location'])['Revenue'].max().reset_index()\n",
        "\n",
        "# Sort the results by 'Revenue' in descending order to get the top stores\n",
        "top_5_stores_by_max_revenue_location = max_revenue_by_location.sort_values(by='Revenue', ascending=False).head(5)\n",
        "\n",
        "# Print the result\n",
        "print(top_5_stores_by_max_revenue_location)"
      ],
      "metadata": {
        "colab": {
          "base_uri": "https://localhost:8080/"
        },
        "id": "Yqv44RSGYKH4",
        "outputId": "a5b6b00c-cf6c-4721-d909-58d25f000027"
      },
      "execution_count": 17,
      "outputs": [
        {
          "output_type": "stream",
          "name": "stdout",
          "text": [
            "                       Store_Name Store_Location   Revenue\n",
            "9   Maven Toys Ciudad de Mexico 2        Airport  36191.65\n",
            "17       Maven Toys Guadalajara 3        Airport  32207.34\n",
            "43            Maven Toys Toluca 1       Downtown  30357.11\n",
            "8   Maven Toys Ciudad de Mexico 1       Downtown  28607.37\n",
            "30         Maven Toys Monterrey 2       Downtown  27842.28\n"
          ]
        }
      ]
    },
    {
      "cell_type": "code",
      "source": [],
      "metadata": {
        "id": "f5HxHsciYb4I"
      },
      "execution_count": null,
      "outputs": []
    }
  ]
}