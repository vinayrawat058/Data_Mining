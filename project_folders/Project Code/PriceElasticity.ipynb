{
 "cells": [
  {
   "cell_type": "markdown",
   "metadata": {},
   "source": [
    "Log-Transform the Data: Since elasticity is often measured as a percentage change:\n",
    "\n",
    "Take the natural log (ln⁡) of both price and quantity demanded:\n",
    "- ln⁡(Q): Log-transformed quantity.\n",
    "- ln⁡(P): Log-transformed price.\n",
    "\n",
    "\n",
    "ln(Q)=β0​+β1​ln(P)+ϵ\n",
    "\n",
    "\n",
    "Interpreting Elasticity:\n",
    "\n",
    "- Elastic (E<−1): Quantity demanded is highly sensitive to price changes.\n",
    "    - Example: Luxury goods.\n",
    "- Inelastic (−1≤E<0): Quantity demanded is less sensitive to price changes.\n",
    "    - Example: Necessities like food or fuel.\n",
    "- Unit Elastic (E=−1): Percentage change in demand equals percentage change in price.\n",
    "\n",
    "\n",
    "Let’s assume you calculated elasticity for Store 1, Product A as −0.75:\n",
    "\n",
    "    Interpretation: Demand for Product A in Store 1 is inelastic. A 1% price increase will lead to a 0.75% decrease in quantity demanded.\n",
    "\n",
    "    Recommendation: The store can likely raise prices slightly to increase revenue without losing many customers.\n",
    "\n",
    "If another product (e.g., Store 2, Product B) has elasticity −1.5:\n",
    "\n",
    "    Interpretation: Demand is elastic. A 1% price increase will result in a 1.5% decrease in demand.\n",
    "    \n",
    "    Recommendation: Focus on keeping prices competitive and consider promotions.\n",
    "\n",
    "We will limit the elasticities at max of -0.001. Highly unlikely that a product is so inelastic that it sales increases with price increase"
   ]
  },
  {
   "cell_type": "code",
   "execution_count": 13,
   "metadata": {},
   "outputs": [
    {
     "name": "stderr",
     "output_type": "stream",
     "text": [
      "C:\\Users\\harsh\\AppData\\Local\\Temp\\ipykernel_34116\\2213447963.py:19: DeprecationWarning: DataFrameGroupBy.apply operated on the grouping columns. This behavior is deprecated, and in a future version of pandas the grouping columns will be excluded from the operation. Either pass `include_groups=False` to exclude the groupings or explicitly select the grouping columns after groupby to silence this warning.\n",
      "  product_elasticities = df.groupby('Product_ID').apply(calculate_elasticity).reset_index()\n"
     ]
    }
   ],
   "source": [
    "import pandas as pd\n",
    "import numpy as np\n",
    "import statsmodels.api as sm\n",
    "\n",
    "df = pd.read_csv('clean_data/store_item_transaction_data.csv')\n",
    "\n",
    "# Log-transform price and quantity\n",
    "df['Log_Price'] = np.log(df['Actual_Product_Price'])\n",
    "df['Log_Quantity'] = np.log(df['Units'])\n",
    "\n",
    "# Function to calculate elasticity for each item\n",
    "def calculate_elasticity(group):\n",
    "    X = sm.add_constant(group['Log_Price'])  # Add intercept\n",
    "    y = group['Log_Quantity']\n",
    "    model = sm.OLS(y, X).fit()\n",
    "    return model.params['Log_Price']  # Return elasticity (coefficient of Log_Price)\n",
    "\n",
    "# Group by Item_ID and calculate elasticity\n",
    "product_elasticities = df.groupby('Product_ID').apply(calculate_elasticity).reset_index()\n",
    "product_elasticities.columns = ['Product_ID', 'Elasticity']\n",
    "product_elasticities['Elasticity'] = product_elasticities['Elasticity'].apply(lambda x: min(x, -0.001))\n",
    "\n",
    "product_elasticities.to_csv('clean_data/elasticities/product_elasticities.csv',index=False)\n"
   ]
  },
  {
   "cell_type": "code",
   "execution_count": 14,
   "metadata": {},
   "outputs": [
    {
     "name": "stderr",
     "output_type": "stream",
     "text": [
      "C:\\Users\\harsh\\AppData\\Local\\Temp\\ipykernel_34116\\3855721671.py:2: DeprecationWarning: DataFrameGroupBy.apply operated on the grouping columns. This behavior is deprecated, and in a future version of pandas the grouping columns will be excluded from the operation. Either pass `include_groups=False` to exclude the groupings or explicitly select the grouping columns after groupby to silence this warning.\n",
      "  store_elasticities = df.groupby(['Store_ID', 'Product_ID']).apply(calculate_elasticity).reset_index()\n"
     ]
    }
   ],
   "source": [
    "# Group by Store_ID and Product_ID and calculate elasticity\n",
    "store_elasticities = df.groupby(['Store_ID', 'Product_ID']).apply(calculate_elasticity).reset_index()\n",
    "store_elasticities.columns = ['Store_ID', 'Product_ID', 'Elasticity']\n",
    "\n",
    "# Drop rows where elasticity could not be calculated (e.g., insufficient data)\n",
    "store_elasticities = store_elasticities.dropna()\n",
    "store_elasticities['Elasticity'] = store_elasticities['Elasticity'].apply(lambda x: min(x, -0.001))\n",
    "\n",
    "# Output the results\n",
    "store_elasticities.to_csv('clean_data/elasticities/store_elasticities.csv',index=False)"
   ]
  },
  {
   "cell_type": "code",
   "execution_count": 15,
   "metadata": {},
   "outputs": [
    {
     "name": "stderr",
     "output_type": "stream",
     "text": [
      "C:\\Users\\harsh\\AppData\\Local\\Temp\\ipykernel_34116\\49899563.py:1: DeprecationWarning: DataFrameGroupBy.apply operated on the grouping columns. This behavior is deprecated, and in a future version of pandas the grouping columns will be excluded from the operation. Either pass `include_groups=False` to exclude the groupings or explicitly select the grouping columns after groupby to silence this warning.\n",
      "  store_loc_elasticities = df.groupby(['Store_Location', 'Product_ID']).apply(calculate_elasticity).reset_index()\n"
     ]
    }
   ],
   "source": [
    "store_loc_elasticities = df.groupby(['Store_Location', 'Product_ID']).apply(calculate_elasticity).reset_index()\n",
    "store_loc_elasticities.columns = ['Store_Location', 'Product_ID', 'Elasticity']\n",
    "\n",
    "# Drop rows where elasticity could not be calculated (e.g., insufficient data)\n",
    "store_loc_elasticities = store_loc_elasticities.dropna()\n",
    "store_loc_elasticities['Elasticity'] = store_loc_elasticities['Elasticity'].apply(lambda x: min(x, -0.001))\n",
    "\n",
    "# Output the results\n",
    "store_loc_elasticities.to_csv('clean_data/elasticities/store_loc_elasticities.csv',index=False)"
   ]
  },
  {
   "cell_type": "code",
   "execution_count": 16,
   "metadata": {},
   "outputs": [
    {
     "name": "stderr",
     "output_type": "stream",
     "text": [
      "C:\\Users\\harsh\\AppData\\Local\\Temp\\ipykernel_34116\\1213445729.py:1: DeprecationWarning: DataFrameGroupBy.apply operated on the grouping columns. This behavior is deprecated, and in a future version of pandas the grouping columns will be excluded from the operation. Either pass `include_groups=False` to exclude the groupings or explicitly select the grouping columns after groupby to silence this warning.\n",
      "  store_city_elasticities = df.groupby(['Store_City', 'Product_ID']).apply(calculate_elasticity).reset_index()\n"
     ]
    }
   ],
   "source": [
    "store_city_elasticities = df.groupby(['Store_City', 'Product_ID']).apply(calculate_elasticity).reset_index()\n",
    "store_city_elasticities.columns = ['Store_City', 'Product_ID', 'Elasticity']\n",
    "\n",
    "# Drop rows where elasticity could not be calculated (e.g., insufficient data)\n",
    "store_city_elasticities = store_city_elasticities.dropna()\n",
    "store_city_elasticities['Elasticity'] = store_city_elasticities['Elasticity'].apply(lambda x: min(x, -0.001))\n",
    "\n",
    "# Output the results\n",
    "store_city_elasticities.to_csv('clean_data/elasticities/store_city_elasticities.csv',index=False)"
   ]
  },
  {
   "cell_type": "code",
   "execution_count": 17,
   "metadata": {},
   "outputs": [
    {
     "name": "stderr",
     "output_type": "stream",
     "text": [
      "C:\\Users\\harsh\\AppData\\Local\\Temp\\ipykernel_34116\\3846319012.py:1: DeprecationWarning: DataFrameGroupBy.apply operated on the grouping columns. This behavior is deprecated, and in a future version of pandas the grouping columns will be excluded from the operation. Either pass `include_groups=False` to exclude the groupings or explicitly select the grouping columns after groupby to silence this warning.\n",
      "  store_city_loc_elasticities = df.groupby(['Store_City','Store_Location', 'Product_ID']).apply(calculate_elasticity).reset_index()\n"
     ]
    }
   ],
   "source": [
    "store_city_loc_elasticities = df.groupby(['Store_City','Store_Location', 'Product_ID']).apply(calculate_elasticity).reset_index()\n",
    "store_city_loc_elasticities.columns = ['Store_City','Store_Location', 'Product_ID', 'Elasticity']\n",
    "\n",
    "# Drop rows where elasticity could not be calculated (e.g., insufficient data)\n",
    "store_city_loc_elasticities = store_city_loc_elasticities.dropna()\n",
    "store_city_loc_elasticities['Elasticity'] = store_city_loc_elasticities['Elasticity'].apply(lambda x: min(x, -0.001))\n",
    "\n",
    "# Output the results\n",
    "store_city_loc_elasticities.to_csv('clean_data/elasticities/store_city_loc_elasticities.csv',index=False)"
   ]
  },
  {
   "cell_type": "code",
   "execution_count": 18,
   "metadata": {},
   "outputs": [
    {
     "name": "stderr",
     "output_type": "stream",
     "text": [
      "C:\\Users\\harsh\\AppData\\Local\\Temp\\ipykernel_34116\\2412264674.py:1: DeprecationWarning: DataFrameGroupBy.apply operated on the grouping columns. This behavior is deprecated, and in a future version of pandas the grouping columns will be excluded from the operation. Either pass `include_groups=False` to exclude the groupings or explicitly select the grouping columns after groupby to silence this warning.\n",
      "  product_cat_elasticities = df.groupby('Product_Category').apply(calculate_elasticity).reset_index()\n"
     ]
    }
   ],
   "source": [
    "product_cat_elasticities = df.groupby('Product_Category').apply(calculate_elasticity).reset_index()\n",
    "product_cat_elasticities.columns = ['Product_Category', 'Elasticity']\n",
    "\n",
    "product_cat_elasticities['Elasticity'] = product_cat_elasticities['Elasticity'].apply(lambda x: min(x, -0.001))\n",
    "\n",
    "product_cat_elasticities.to_csv('clean_data/elasticities/product_cat_elasticities.csv',index=False)"
   ]
  },
  {
   "cell_type": "code",
   "execution_count": 19,
   "metadata": {},
   "outputs": [
    {
     "name": "stderr",
     "output_type": "stream",
     "text": [
      "C:\\Users\\harsh\\AppData\\Local\\Temp\\ipykernel_34116\\1796960149.py:1: DeprecationWarning: DataFrameGroupBy.apply operated on the grouping columns. This behavior is deprecated, and in a future version of pandas the grouping columns will be excluded from the operation. Either pass `include_groups=False` to exclude the groupings or explicitly select the grouping columns after groupby to silence this warning.\n",
      "  city_elasticities = df.groupby('Store_City').apply(calculate_elasticity).reset_index()\n"
     ]
    }
   ],
   "source": [
    "city_elasticities = df.groupby('Store_City').apply(calculate_elasticity).reset_index()\n",
    "city_elasticities.columns = ['Store_City', 'Elasticity']\n",
    "city_elasticities['Elasticity'] = city_elasticities['Elasticity'].apply(lambda x: min(x, -0.001))\n",
    "\n",
    "city_elasticities.to_csv('clean_data/elasticities/city_elasticities.csv',index=False)"
   ]
  },
  {
   "cell_type": "code",
   "execution_count": 20,
   "metadata": {},
   "outputs": [
    {
     "name": "stderr",
     "output_type": "stream",
     "text": [
      "C:\\Users\\harsh\\AppData\\Local\\Temp\\ipykernel_34116\\2667086467.py:1: DeprecationWarning: DataFrameGroupBy.apply operated on the grouping columns. This behavior is deprecated, and in a future version of pandas the grouping columns will be excluded from the operation. Either pass `include_groups=False` to exclude the groupings or explicitly select the grouping columns after groupby to silence this warning.\n",
      "  store_city_loc_month_yr_elasticities = df.groupby(['Store_City','Store_Location','Year','Month','Product_ID']).apply(calculate_elasticity).reset_index()\n"
     ]
    }
   ],
   "source": [
    "store_city_loc_month_yr_elasticities = df.groupby(['Store_City','Store_Location','Year','Month','Product_ID']).apply(calculate_elasticity).reset_index()\n",
    "store_city_loc_month_yr_elasticities.columns = ['Store_City','Store_Location','Year','Month','Product_ID', 'Elasticity']\n",
    "\n",
    "# Drop rows where elasticity could not be calculated (e.g., insufficient data)\n",
    "store_city_loc_month_yr_elasticities = store_city_loc_month_yr_elasticities.dropna()\n",
    "store_city_loc_month_yr_elasticities['Elasticity'] = store_city_loc_month_yr_elasticities['Elasticity'].apply(lambda x: min(x, -0.001))\n",
    "\n",
    "# Output the results\n",
    "store_city_loc_month_yr_elasticities.to_csv('clean_data/elasticities/store_city_loc_month_yr_elasticities.csv',index=False)"
   ]
  },
  {
   "cell_type": "code",
   "execution_count": 26,
   "metadata": {},
   "outputs": [],
   "source": [
    "x_product_y_loc = product_elasticities.merge(store_loc_elasticities,how='left',on='Product_ID')"
   ]
  },
  {
   "cell_type": "code",
   "execution_count": 27,
   "metadata": {},
   "outputs": [
    {
     "data": {
      "text/html": [
       "<div>\n",
       "<style scoped>\n",
       "    .dataframe tbody tr th:only-of-type {\n",
       "        vertical-align: middle;\n",
       "    }\n",
       "\n",
       "    .dataframe tbody tr th {\n",
       "        vertical-align: top;\n",
       "    }\n",
       "\n",
       "    .dataframe thead th {\n",
       "        text-align: right;\n",
       "    }\n",
       "</style>\n",
       "<table border=\"1\" class=\"dataframe\">\n",
       "  <thead>\n",
       "    <tr style=\"text-align: right;\">\n",
       "      <th></th>\n",
       "      <th>Store_City</th>\n",
       "      <th>Store_Location</th>\n",
       "      <th>Year</th>\n",
       "      <th>Month</th>\n",
       "      <th>Product_ID</th>\n",
       "      <th>Elasticity</th>\n",
       "    </tr>\n",
       "  </thead>\n",
       "  <tbody>\n",
       "    <tr>\n",
       "      <th>0</th>\n",
       "      <td>Aguascalientes</td>\n",
       "      <td>Downtown</td>\n",
       "      <td>2022</td>\n",
       "      <td>1</td>\n",
       "      <td>1</td>\n",
       "      <td>-0.001000</td>\n",
       "    </tr>\n",
       "    <tr>\n",
       "      <th>1</th>\n",
       "      <td>Aguascalientes</td>\n",
       "      <td>Downtown</td>\n",
       "      <td>2022</td>\n",
       "      <td>1</td>\n",
       "      <td>2</td>\n",
       "      <td>-0.001000</td>\n",
       "    </tr>\n",
       "    <tr>\n",
       "      <th>2</th>\n",
       "      <td>Aguascalientes</td>\n",
       "      <td>Downtown</td>\n",
       "      <td>2022</td>\n",
       "      <td>1</td>\n",
       "      <td>3</td>\n",
       "      <td>-0.001000</td>\n",
       "    </tr>\n",
       "    <tr>\n",
       "      <th>3</th>\n",
       "      <td>Aguascalientes</td>\n",
       "      <td>Downtown</td>\n",
       "      <td>2022</td>\n",
       "      <td>1</td>\n",
       "      <td>4</td>\n",
       "      <td>-0.001000</td>\n",
       "    </tr>\n",
       "    <tr>\n",
       "      <th>4</th>\n",
       "      <td>Aguascalientes</td>\n",
       "      <td>Downtown</td>\n",
       "      <td>2022</td>\n",
       "      <td>1</td>\n",
       "      <td>6</td>\n",
       "      <td>-2.803423</td>\n",
       "    </tr>\n",
       "  </tbody>\n",
       "</table>\n",
       "</div>"
      ],
      "text/plain": [
       "       Store_City Store_Location  Year  Month  Product_ID  Elasticity\n",
       "0  Aguascalientes       Downtown  2022      1           1   -0.001000\n",
       "1  Aguascalientes       Downtown  2022      1           2   -0.001000\n",
       "2  Aguascalientes       Downtown  2022      1           3   -0.001000\n",
       "3  Aguascalientes       Downtown  2022      1           4   -0.001000\n",
       "4  Aguascalientes       Downtown  2022      1           6   -2.803423"
      ]
     },
     "execution_count": 27,
     "metadata": {},
     "output_type": "execute_result"
    }
   ],
   "source": [
    "store_city_loc_month_yr_elasticities.head()"
   ]
  },
  {
   "cell_type": "code",
   "execution_count": 29,
   "metadata": {},
   "outputs": [
    {
     "data": {
      "text/html": [
       "<div>\n",
       "<style scoped>\n",
       "    .dataframe tbody tr th:only-of-type {\n",
       "        vertical-align: middle;\n",
       "    }\n",
       "\n",
       "    .dataframe tbody tr th {\n",
       "        vertical-align: top;\n",
       "    }\n",
       "\n",
       "    .dataframe thead th {\n",
       "        text-align: right;\n",
       "    }\n",
       "</style>\n",
       "<table border=\"1\" class=\"dataframe\">\n",
       "  <thead>\n",
       "    <tr style=\"text-align: right;\">\n",
       "      <th></th>\n",
       "      <th>Product_ID</th>\n",
       "      <th>Elasticity_x</th>\n",
       "      <th>Store_Location</th>\n",
       "      <th>Elasticity_y</th>\n",
       "      <th>Store_City</th>\n",
       "      <th>Year</th>\n",
       "      <th>Month</th>\n",
       "      <th>Elasticity</th>\n",
       "    </tr>\n",
       "  </thead>\n",
       "  <tbody>\n",
       "    <tr>\n",
       "      <th>0</th>\n",
       "      <td>1</td>\n",
       "      <td>-0.001</td>\n",
       "      <td>Airport</td>\n",
       "      <td>-0.001</td>\n",
       "      <td>Cuidad de Mexico</td>\n",
       "      <td>2022</td>\n",
       "      <td>1</td>\n",
       "      <td>-0.001</td>\n",
       "    </tr>\n",
       "    <tr>\n",
       "      <th>1</th>\n",
       "      <td>1</td>\n",
       "      <td>-0.001</td>\n",
       "      <td>Airport</td>\n",
       "      <td>-0.001</td>\n",
       "      <td>Cuidad de Mexico</td>\n",
       "      <td>2022</td>\n",
       "      <td>2</td>\n",
       "      <td>-0.001</td>\n",
       "    </tr>\n",
       "    <tr>\n",
       "      <th>2</th>\n",
       "      <td>1</td>\n",
       "      <td>-0.001</td>\n",
       "      <td>Airport</td>\n",
       "      <td>-0.001</td>\n",
       "      <td>Cuidad de Mexico</td>\n",
       "      <td>2022</td>\n",
       "      <td>3</td>\n",
       "      <td>-0.001</td>\n",
       "    </tr>\n",
       "    <tr>\n",
       "      <th>3</th>\n",
       "      <td>1</td>\n",
       "      <td>-0.001</td>\n",
       "      <td>Airport</td>\n",
       "      <td>-0.001</td>\n",
       "      <td>Cuidad de Mexico</td>\n",
       "      <td>2022</td>\n",
       "      <td>4</td>\n",
       "      <td>-0.001</td>\n",
       "    </tr>\n",
       "    <tr>\n",
       "      <th>4</th>\n",
       "      <td>1</td>\n",
       "      <td>-0.001</td>\n",
       "      <td>Airport</td>\n",
       "      <td>-0.001</td>\n",
       "      <td>Cuidad de Mexico</td>\n",
       "      <td>2022</td>\n",
       "      <td>5</td>\n",
       "      <td>-0.001</td>\n",
       "    </tr>\n",
       "  </tbody>\n",
       "</table>\n",
       "</div>"
      ],
      "text/plain": [
       "   Product_ID  Elasticity_x Store_Location  Elasticity_y        Store_City  \\\n",
       "0           1        -0.001        Airport        -0.001  Cuidad de Mexico   \n",
       "1           1        -0.001        Airport        -0.001  Cuidad de Mexico   \n",
       "2           1        -0.001        Airport        -0.001  Cuidad de Mexico   \n",
       "3           1        -0.001        Airport        -0.001  Cuidad de Mexico   \n",
       "4           1        -0.001        Airport        -0.001  Cuidad de Mexico   \n",
       "\n",
       "   Year  Month  Elasticity  \n",
       "0  2022      1      -0.001  \n",
       "1  2022      2      -0.001  \n",
       "2  2022      3      -0.001  \n",
       "3  2022      4      -0.001  \n",
       "4  2022      5      -0.001  "
      ]
     },
     "execution_count": 29,
     "metadata": {},
     "output_type": "execute_result"
    }
   ],
   "source": [
    "x_product_y_loc_z_date = x_product_y_loc.merge(store_city_loc_month_yr_elasticities,how='left',on=['Product_ID','Store_Location'])\n",
    "x_product_y_loc_z_date.head()"
   ]
  },
  {
   "cell_type": "code",
   "execution_count": null,
   "metadata": {},
   "outputs": [],
   "source": [
    "x_product_y_loc_z_date['Actual_Elasticity'] = x_product_y_loc_z_date"
   ]
  },
  {
   "cell_type": "code",
   "execution_count": 30,
   "metadata": {},
   "outputs": [
    {
     "data": {
      "text/html": [
       "<div>\n",
       "<style scoped>\n",
       "    .dataframe tbody tr th:only-of-type {\n",
       "        vertical-align: middle;\n",
       "    }\n",
       "\n",
       "    .dataframe tbody tr th {\n",
       "        vertical-align: top;\n",
       "    }\n",
       "\n",
       "    .dataframe thead th {\n",
       "        text-align: right;\n",
       "    }\n",
       "</style>\n",
       "<table border=\"1\" class=\"dataframe\">\n",
       "  <thead>\n",
       "    <tr style=\"text-align: right;\">\n",
       "      <th></th>\n",
       "      <th>Store_City</th>\n",
       "      <th>Store_Location</th>\n",
       "      <th>Product_ID</th>\n",
       "      <th>Elasticity</th>\n",
       "    </tr>\n",
       "  </thead>\n",
       "  <tbody>\n",
       "    <tr>\n",
       "      <th>0</th>\n",
       "      <td>Aguascalientes</td>\n",
       "      <td>Downtown</td>\n",
       "      <td>1</td>\n",
       "      <td>-0.082805</td>\n",
       "    </tr>\n",
       "    <tr>\n",
       "      <th>1</th>\n",
       "      <td>Aguascalientes</td>\n",
       "      <td>Downtown</td>\n",
       "      <td>2</td>\n",
       "      <td>-0.171935</td>\n",
       "    </tr>\n",
       "    <tr>\n",
       "      <th>2</th>\n",
       "      <td>Aguascalientes</td>\n",
       "      <td>Downtown</td>\n",
       "      <td>3</td>\n",
       "      <td>-0.139763</td>\n",
       "    </tr>\n",
       "    <tr>\n",
       "      <th>3</th>\n",
       "      <td>Aguascalientes</td>\n",
       "      <td>Downtown</td>\n",
       "      <td>4</td>\n",
       "      <td>-0.001000</td>\n",
       "    </tr>\n",
       "    <tr>\n",
       "      <th>4</th>\n",
       "      <td>Aguascalientes</td>\n",
       "      <td>Downtown</td>\n",
       "      <td>5</td>\n",
       "      <td>-0.001000</td>\n",
       "    </tr>\n",
       "  </tbody>\n",
       "</table>\n",
       "</div>"
      ],
      "text/plain": [
       "       Store_City Store_Location  Product_ID  Elasticity\n",
       "0  Aguascalientes       Downtown           1   -0.082805\n",
       "1  Aguascalientes       Downtown           2   -0.171935\n",
       "2  Aguascalientes       Downtown           3   -0.139763\n",
       "3  Aguascalientes       Downtown           4   -0.001000\n",
       "4  Aguascalientes       Downtown           5   -0.001000"
      ]
     },
     "execution_count": 30,
     "metadata": {},
     "output_type": "execute_result"
    }
   ],
   "source": [
    "store_city_loc_elasticities.head()"
   ]
  },
  {
   "cell_type": "code",
   "execution_count": 31,
   "metadata": {},
   "outputs": [
    {
     "data": {
      "text/html": [
       "<div>\n",
       "<style scoped>\n",
       "    .dataframe tbody tr th:only-of-type {\n",
       "        vertical-align: middle;\n",
       "    }\n",
       "\n",
       "    .dataframe tbody tr th {\n",
       "        vertical-align: top;\n",
       "    }\n",
       "\n",
       "    .dataframe thead th {\n",
       "        text-align: right;\n",
       "    }\n",
       "</style>\n",
       "<table border=\"1\" class=\"dataframe\">\n",
       "  <thead>\n",
       "    <tr style=\"text-align: right;\">\n",
       "      <th></th>\n",
       "      <th>Store_Location</th>\n",
       "      <th>Product_ID</th>\n",
       "      <th>Elasticity</th>\n",
       "    </tr>\n",
       "  </thead>\n",
       "  <tbody>\n",
       "    <tr>\n",
       "      <th>0</th>\n",
       "      <td>Airport</td>\n",
       "      <td>1</td>\n",
       "      <td>-0.001000</td>\n",
       "    </tr>\n",
       "    <tr>\n",
       "      <th>1</th>\n",
       "      <td>Airport</td>\n",
       "      <td>2</td>\n",
       "      <td>-0.001000</td>\n",
       "    </tr>\n",
       "    <tr>\n",
       "      <th>2</th>\n",
       "      <td>Airport</td>\n",
       "      <td>3</td>\n",
       "      <td>-0.562626</td>\n",
       "    </tr>\n",
       "    <tr>\n",
       "      <th>3</th>\n",
       "      <td>Airport</td>\n",
       "      <td>4</td>\n",
       "      <td>-0.001000</td>\n",
       "    </tr>\n",
       "    <tr>\n",
       "      <th>4</th>\n",
       "      <td>Airport</td>\n",
       "      <td>5</td>\n",
       "      <td>-0.001000</td>\n",
       "    </tr>\n",
       "  </tbody>\n",
       "</table>\n",
       "</div>"
      ],
      "text/plain": [
       "  Store_Location  Product_ID  Elasticity\n",
       "0        Airport           1   -0.001000\n",
       "1        Airport           2   -0.001000\n",
       "2        Airport           3   -0.562626\n",
       "3        Airport           4   -0.001000\n",
       "4        Airport           5   -0.001000"
      ]
     },
     "execution_count": 31,
     "metadata": {},
     "output_type": "execute_result"
    }
   ],
   "source": [
    "store_loc_elasticities.head()"
   ]
  },
  {
   "cell_type": "markdown",
   "metadata": {},
   "source": [
    "Eventhough we have price elasticities at multiple levels, we will consider the data to be aggregated ata Store_location level, because that seems to be common amongst all the cities, airports are expensive and usually have price inelasticity. Downtown seems to be a busy place etc etc."
   ]
  },
  {
   "cell_type": "code",
   "execution_count": 33,
   "metadata": {},
   "outputs": [
    {
     "data": {
      "text/plain": [
       "{'Airport', 'Commercial', 'Downtown', 'Residential'}"
      ]
     },
     "execution_count": 33,
     "metadata": {},
     "output_type": "execute_result"
    }
   ],
   "source": []
  },
  {
   "cell_type": "code",
   "execution_count": null,
   "metadata": {},
   "outputs": [],
   "source": []
  }
 ],
 "metadata": {
  "kernelspec": {
   "display_name": "env",
   "language": "python",
   "name": "python3"
  },
  "language_info": {
   "codemirror_mode": {
    "name": "ipython",
    "version": 3
   },
   "file_extension": ".py",
   "mimetype": "text/x-python",
   "name": "python",
   "nbconvert_exporter": "python",
   "pygments_lexer": "ipython3",
   "version": "3.9.12"
  }
 },
 "nbformat": 4,
 "nbformat_minor": 2
}
