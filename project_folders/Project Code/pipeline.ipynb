{
 "cells": [
  {
   "cell_type": "code",
   "execution_count": 1,
   "metadata": {},
   "outputs": [],
   "source": [
    "import pandas as pd \n",
    "import numpy as np  "
   ]
  },
  {
   "cell_type": "code",
   "execution_count": 2,
   "metadata": {},
   "outputs": [],
   "source": [
    "def calculate_new_price_and_units(row,max_abs_inc,max_pct_inc,gc_loss):\n",
    "    elasticity = row[\"Elasticity\"]\n",
    "    current_price = row[\"Product_Price\"]\n",
    "    units_sold = row[\"Units\"]\n",
    "    current_revenue = row[\"xRevenue\"]\n",
    "\n",
    "   # Constraints\n",
    "    max_price_increase = min(max_abs_inc, max_pct_inc * current_price)  # Maximum price increase\n",
    "    max_price = current_price + max_price_increase       # Maximum allowed price\n",
    "    price_steps = np.arange(current_price, max_price+0.04, 0.05)  # Price steps\n",
    "\n",
    "    best_price = current_price  # Default to current price if no better price is found\n",
    "    best_units = units_sold     # Default to current units if no better price is found\n",
    "\n",
    "    # Iterate over potential new prices\n",
    "    for new_price in price_steps:\n",
    "        # Calculate new units and revenue\n",
    "        new_units = units_sold * (1 + elasticity * (new_price - current_price) / current_price)\n",
    "        new_revenue = new_price * new_units\n",
    "\n",
    "        # Check constraints: revenue > current_revenue, units loss ≤ 2%\n",
    "        if new_revenue > current_revenue and (units_sold - new_units) / units_sold <= gc_loss:\n",
    "            best_price = new_price  # Update best price if valid\n",
    "            best_units = new_units  # Update corresponding units\n",
    "\n",
    "    return pd.Series([best_price, best_units])\n",
    "\n",
    "\n"
   ]
  },
  {
   "cell_type": "markdown",
   "metadata": {},
   "source": [
    "Elasticity_data"
   ]
  },
  {
   "cell_type": "code",
   "execution_count": 3,
   "metadata": {},
   "outputs": [],
   "source": [
    "loc_product_elasticity = pd.read_csv('clean_data/elasticities/store_loc_elasticities.csv')\n",
    "store_product_elasticity = pd.read_csv('clean_data/elasticities/store_elasticities.csv')\n",
    "city_product_elasticity = pd.read_csv('clean_data/elasticities/store_city_elasticities.csv')\n",
    "city_loc_product_elasticity = pd.read_csv('clean_data/elasticities/store_city_elasticities.csv')"
   ]
  },
  {
   "cell_type": "code",
   "execution_count": null,
   "metadata": {},
   "outputs": [],
   "source": []
  }
 ],
 "metadata": {
  "kernelspec": {
   "display_name": "env",
   "language": "python",
   "name": "python3"
  },
  "language_info": {
   "codemirror_mode": {
    "name": "ipython",
    "version": 3
   },
   "file_extension": ".py",
   "mimetype": "text/x-python",
   "name": "python",
   "nbconvert_exporter": "python",
   "pygments_lexer": "ipython3",
   "version": "3.9.12"
  }
 },
 "nbformat": 4,
 "nbformat_minor": 2
}
